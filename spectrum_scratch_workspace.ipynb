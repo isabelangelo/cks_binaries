{
 "cells": [
  {
   "cell_type": "code",
   "execution_count": 1,
   "id": "97bfd721",
   "metadata": {},
   "outputs": [],
   "source": [
    "# now I need to make a spectrum object similar to SingleOrderSpectrum\n",
    "# but for multiple orders\n",
    "\n",
    "# I think maybe it can read in the flux and the order numbers...\n",
    "# but the wavelength mask part is tricky\n",
    "from spectrum import *"
   ]
  },
  {
   "cell_type": "code",
   "execution_count": 2,
   "id": "d0a396d5",
   "metadata": {},
   "outputs": [],
   "source": [
    "# okay I already have code that will claculate the chisq\n",
    "# I just need code to calculate the training density...\n",
    "# this might take some thought"
   ]
  },
  {
   "cell_type": "code",
   "execution_count": 3,
   "id": "88579b01",
   "metadata": {},
   "outputs": [],
   "source": [
    "# now there's a problem even loading this data because I combined so many \n",
    "# spectra to make the model that I needed.\n",
    "# but I guess I could just load the data from the model right now?\n",
    "model = tc.CannonModel.read('./data/cannon_models/rchip_orders_11-12_omitted.model')\n",
    "flux = model.training_set_flux[0]\n",
    "ivar = model.training_set_ivar[0]\n",
    "sigma = 1/np.sqrt(ivar)\n",
    "order_numbers = np.concatenate([np.arange(1,11,1), np.arange(13,17,1)])\n",
    "\n",
    "spec = Spectrum(flux, sigma, order_numbers, model)"
   ]
  },
  {
   "cell_type": "code",
   "execution_count": 4,
   "id": "895ffaab",
   "metadata": {},
   "outputs": [],
   "source": [
    "spec.fit_single_star()"
   ]
  },
  {
   "cell_type": "code",
   "execution_count": 9,
   "id": "c4279fa7",
   "metadata": {},
   "outputs": [],
   "source": [
    "# now I need the training density\n",
    "# I should look at the gaia cannon\n",
    "from scipy import stats\n",
    "\n",
    "training_data = spec.cannon_model.training_set_labels\n",
    "training_density_kde = stats.gaussian_kde(training_data.T)\n",
    "density = training_density_kde(spec.fit_cannon_labels)[0]"
   ]
  },
  {
   "cell_type": "code",
   "execution_count": null,
   "id": "e2303c91",
   "metadata": {},
   "outputs": [],
   "source": []
  },
  {
   "cell_type": "code",
   "execution_count": null,
   "id": "cd5c69e5",
   "metadata": {},
   "outputs": [],
   "source": []
  },
  {
   "cell_type": "code",
   "execution_count": null,
   "id": "dd24044e",
   "metadata": {},
   "outputs": [],
   "source": []
  },
  {
   "cell_type": "code",
   "execution_count": null,
   "id": "f2d19723",
   "metadata": {},
   "outputs": [],
   "source": []
  },
  {
   "cell_type": "code",
   "execution_count": null,
   "id": "daf68aad",
   "metadata": {},
   "outputs": [],
   "source": []
  },
  {
   "cell_type": "code",
   "execution_count": null,
   "id": "5eefdf66",
   "metadata": {},
   "outputs": [],
   "source": []
  },
  {
   "cell_type": "code",
   "execution_count": null,
   "id": "56798e1c",
   "metadata": {},
   "outputs": [],
   "source": []
  }
 ],
 "metadata": {
  "kernelspec": {
   "display_name": "Python 3 (ipykernel)",
   "language": "python",
   "name": "python3"
  },
  "language_info": {
   "codemirror_mode": {
    "name": "ipython",
    "version": 3
   },
   "file_extension": ".py",
   "mimetype": "text/x-python",
   "name": "python",
   "nbconvert_exporter": "python",
   "pygments_lexer": "ipython3",
   "version": "3.8.18"
  }
 },
 "nbformat": 4,
 "nbformat_minor": 5
}
