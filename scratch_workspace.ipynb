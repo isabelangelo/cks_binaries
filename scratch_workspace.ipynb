{
 "cells": [
  {
   "cell_type": "code",
   "execution_count": 1,
   "id": "97bfd721",
   "metadata": {},
   "outputs": [
    {
     "name": "stdout",
     "output_type": "stream",
     "text": [
      "889 objects in training set\n"
     ]
    },
    {
     "name": "stderr",
     "output_type": "stream",
     "text": [
      "2024-04-09 15:52:24,815 [INFO] Training 4-label CannonModel with 712 stars and 3620 pixels/star\n",
      "stty: stdin isn't a terminal\n",
      "2024-04-09 15:52:24,828 [DEBUG] Couldn't get screen size. Progressbar may look odd.\n"
     ]
    },
    {
     "name": "stdout",
     "output_type": "stream",
     "text": [
      "training model with objects 0-177 held out\n",
      "[====================================================================================================] 100% (11s)                                \n",
      "> \u001b[0;32m/Users/isabelangelo/Desktop/cks_binaries/cannon_model_diagnostics.py\u001b[0m(82)\u001b[0;36mcompute_cannon_labels\u001b[0;34m()\u001b[0m\n",
      "\u001b[0;32m     80 \u001b[0;31m                        \u001b[0;31m# fit cross validation mdoel to data\u001b[0m\u001b[0;34m\u001b[0m\u001b[0;34m\u001b[0m\u001b[0;34m\u001b[0m\u001b[0m\n",
      "\u001b[0m\u001b[0;32m     81 \u001b[0;31m                        \u001b[0;32mimport\u001b[0m \u001b[0mpdb\u001b[0m\u001b[0;34m;\u001b[0m\u001b[0mpdb\u001b[0m\u001b[0;34m.\u001b[0m\u001b[0mset_trace\u001b[0m\u001b[0;34m(\u001b[0m\u001b[0;34m)\u001b[0m\u001b[0;34m\u001b[0m\u001b[0;34m\u001b[0m\u001b[0m\n",
      "\u001b[0m\u001b[0;32m---> 82 \u001b[0;31m\t\t        spec = SingleOrderSpectrum(\n",
      "\u001b[0m\u001b[0;32m     83 \u001b[0;31m                                \u001b[0mflux\u001b[0m\u001b[0;34m,\u001b[0m\u001b[0;34m\u001b[0m\u001b[0;34m\u001b[0m\u001b[0m\n",
      "\u001b[0m\u001b[0;32m     84 \u001b[0;31m                                \u001b[0msigma\u001b[0m\u001b[0;34m,\u001b[0m\u001b[0;34m\u001b[0m\u001b[0;34m\u001b[0m\u001b[0m\n",
      "\u001b[0m\n",
      "ipdb> len(sigma)\n",
      "3620\n",
      "ipdb> exit()\n"
     ]
    }
   ],
   "source": [
    "# I need to run plot_one_to_one_leave1out\n",
    "# similar to in train_cannon_model\n",
    "from cannon_model_diagnostics import *\n",
    "from astropy.table import Table\n",
    "\n",
    "training_labels = ['cks_steff', 'cks_slogg', 'cks_smet','cks_svsini']\n",
    "training_set_table = Table.read('./data/label_dataframes/training_labels.csv', format='csv')\n",
    "training_set = training_set_table[training_labels]\n",
    "print('{} objects in training set'.format(len(training_set)))\n",
    "\n",
    "flux_df = pd.read_csv('./data/cks-spectra_dataframes/training_flux_order11.csv')\n",
    "sigma_df = pd.read_csv('./data/cks-spectra_dataframes/training_sigma_order11.csv')\n",
    "order_n = 11\n",
    "\n",
    "plot_one_to_one_leave1out(\n",
    "    order_n, \n",
    "    training_set.to_pandas(), \n",
    "    flux_df, \n",
    "    sigma_df, \n",
    "    './TEST_one_to_one.png')\n",
    "\n",
    "# check if this works then add de-bugger."
   ]
  },
  {
   "cell_type": "code",
   "execution_count": null,
   "id": "5f09d121",
   "metadata": {},
   "outputs": [],
   "source": [
    "# problem: there are two places where the spectra get clipped\n",
    "# and sometimes the spectra go through both of those.\n",
    "# how can I fix this?\n",
    "\n",
    "# so basically, sometimes the SingleSpectrumOrder reads in an original training flux, unclipped\n",
    "# and other times it reads in training flux from a model, which is clipped\n",
    "# I need these to either both be clipped or both be unclipped\n",
    "# when they get read into SingleOrderSpectrum\n",
    "# also, every spectrum will need to be clipped at some point\n",
    "# I think it makes the most sense to clip these when I run the dwt\n",
    "# because that has to happen to every spectrum in order to fit.\n",
    "# so I need to implement this next.\n",
    "# then I think I can remove all the clips, everything will be the same size moving forward.\n",
    "# I'll just need to re-compute the training flux.\n",
    "# I think I just need to move the clip there and can remove it from other scripts.\n",
    "# but then the sigma also has to get clipped!!!\n",
    "# and i need to be mindful of the part that asserts even number of pixels\n",
    "# problem: what about the clip for the wavelength array?\n",
    "# maybe I can write a clipped wavelength file in load_training_data.py\n",
    "# and save it to a file that I can use in spectrum.py"
   ]
  },
  {
   "cell_type": "code",
   "execution_count": null,
   "id": "d0a396d5",
   "metadata": {},
   "outputs": [],
   "source": []
  },
  {
   "cell_type": "code",
   "execution_count": null,
   "id": "a00ff8be",
   "metadata": {},
   "outputs": [],
   "source": []
  },
  {
   "cell_type": "code",
   "execution_count": null,
   "id": "88579b01",
   "metadata": {},
   "outputs": [],
   "source": []
  },
  {
   "cell_type": "code",
   "execution_count": null,
   "id": "895ffaab",
   "metadata": {},
   "outputs": [],
   "source": []
  },
  {
   "cell_type": "code",
   "execution_count": null,
   "id": "c4279fa7",
   "metadata": {},
   "outputs": [],
   "source": []
  },
  {
   "cell_type": "code",
   "execution_count": null,
   "id": "e2303c91",
   "metadata": {},
   "outputs": [],
   "source": []
  },
  {
   "cell_type": "code",
   "execution_count": null,
   "id": "cd5c69e5",
   "metadata": {},
   "outputs": [],
   "source": []
  },
  {
   "cell_type": "code",
   "execution_count": null,
   "id": "dd24044e",
   "metadata": {},
   "outputs": [],
   "source": []
  },
  {
   "cell_type": "code",
   "execution_count": null,
   "id": "f2d19723",
   "metadata": {},
   "outputs": [],
   "source": []
  },
  {
   "cell_type": "code",
   "execution_count": null,
   "id": "daf68aad",
   "metadata": {},
   "outputs": [],
   "source": []
  },
  {
   "cell_type": "code",
   "execution_count": null,
   "id": "5eefdf66",
   "metadata": {},
   "outputs": [],
   "source": []
  },
  {
   "cell_type": "code",
   "execution_count": null,
   "id": "56798e1c",
   "metadata": {},
   "outputs": [],
   "source": []
  }
 ],
 "metadata": {
  "kernelspec": {
   "display_name": "Python 3 (ipykernel)",
   "language": "python",
   "name": "python3"
  },
  "language_info": {
   "codemirror_mode": {
    "name": "ipython",
    "version": 3
   },
   "file_extension": ".py",
   "mimetype": "text/x-python",
   "name": "python",
   "nbconvert_exporter": "python",
   "pygments_lexer": "ipython3",
   "version": "3.8.18"
  }
 },
 "nbformat": 4,
 "nbformat_minor": 5
}
